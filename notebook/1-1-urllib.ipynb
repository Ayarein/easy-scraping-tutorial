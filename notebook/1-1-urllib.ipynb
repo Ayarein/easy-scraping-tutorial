{
 "cells": [
  {
   "cell_type": "markdown",
   "metadata": {},
   "source": [
    "# Simplest scraping\n",
    "**We gonna show how to open a very simple [webpage](https://mofanpy.com/static/scraping/basic-structure.html), and read all the content in it.**"
   ]
  },
  {
   "cell_type": "code",
   "execution_count": 9,
   "metadata": {
    "collapsed": true
   },
   "outputs": [
    {
     "name": "stdout",
     "output_type": "stream",
     "text": [
      "<!DOCTYPE html><html lang=\"cn\"> <head><meta charset=\"UTF-8\"><title>Scraping tutorial 1 | 莫烦Python</title><link rel=\"icon\" href=\"/static/img/description/tab_icon.png\"></head> <body> <h1>爬虫测试1</h1> <p> 这是一个在 <a href=\"/\">莫烦Python</a> <a href=\"/tutorials/data-manipulation/scraping/\">爬虫教程</a> 中的简单测试. </p> </body> </html> \n"
     ]
    }
   ],
   "source": [
    "from urllib.request import urlopen #导入urlopen函数，这个函数可以从互联网上获取网页数据\n",
    "\n",
    "# if has Chinese, apply decode()\n",
    "url = \"https://mofanpy.com/static/scraping/basic-structure.html\"\n",
    "html = urlopen(url).read().decode('utf-8')\n",
    "    # urlopen打开了指定URL网页链接，并获取响应内容\n",
    "    # .read()读取了整个响应内容，以字节的形式存储\n",
    "    # .decode()将字节内容转化成自从富川，utf-8的解码方式保证中文字符可以被正确解释\n",
    "print(html) # 将获取到的HTML内容打印到控制台\n"
   ]
  },
  {
   "cell_type": "markdown",
   "metadata": {},
   "source": [
    "**Then we select some text according to the tag arround text using regular expression**"
   ]
  },
  {
   "cell_type": "code",
   "execution_count": 8,
   "metadata": {},
   "outputs": [
    {
     "name": "stdout",
     "output_type": "stream",
     "text": [
      "\n",
      "Page title is:  Scraping tutorial 1 | 莫烦Python\n"
     ]
    }
   ],
   "source": [
    "import re # 引入re模块，能够处理正则表达式\n",
    "res = re.findall(r\"<title>(.+?)</title>\", html)\n",
    "    # res是response的意思\n",
    "    # <title>和</title>表示内容的起止，即读的是<title>与</title>之间的内容\n",
    "    # (.+?)匹配任意字符(除换行符)一次或多次，并捕获匹配的内容\n",
    "    # 如果匹配到的有换行符就在后面加re.DOTALL\n",
    "    # findall()会返回一个列表，其中包含所有匹配的子串\n",
    "print(\"\\nPage title is: \", res[0])\n",
    "    # 打印提取到的网页标题\n",
    "    # 由于re.findall()返回的是一个列表，我们取列表的第一个元素res[0]作为网页标题\n",
    "    # 列表的个数取决于匹配到了多少个元素"
   ]
  },
  {
   "cell_type": "markdown",
   "metadata": {},
   "source": [
    "**Another example to select paragraph content out of html.**"
   ]
  },
  {
   "cell_type": "code",
   "execution_count": 10,
   "metadata": {},
   "outputs": [
    {
     "name": "stdout",
     "output_type": "stream",
     "text": [
      "\n",
      "Page paragraph is:  \n",
      "\t\t这是一个在 <a href=\"https://mofanpy.com/\">莫烦Python</a>\n",
      "\t\t<a href=\"https://mofanpy.com/tutorials/scraping\">爬虫教程</a> 中的简单测试.\n",
      "\t\n"
     ]
    }
   ],
   "source": [
    "res = re.findall(r\"<p>(.*?)</p>\", html, flags=re.DOTALL)    # re.DOTALL if multi line\n",
    "print(\"\\nPage paragraph is: \", res[0])"
   ]
  },
  {
   "cell_type": "markdown",
   "metadata": {},
   "source": [
    "**And select links using regex**"
   ]
  },
  {
   "cell_type": "code",
   "execution_count": 9,
   "metadata": {},
   "outputs": [
    {
     "name": "stdout",
     "output_type": "stream",
     "text": [
      "\n",
      "All links:  ['https://mofanpy.com/static/img/description/tab_icon.png', 'https://mofanpy.com/', 'https://mofanpy.com/tutorials/scraping']\n"
     ]
    }
   ],
   "source": [
    "res = re.findall(r'href=\"(.*?)\"', html) # 匹配href=后的链接\n",
    "print(\"\\nAll links: \", res)"
   ]
  },
  {
   "cell_type": "code",
   "execution_count": null,
   "metadata": {},
   "outputs": [],
   "source": []
  }
 ],
 "metadata": {
  "kernelspec": {
   "display_name": "Python 3",
   "language": "python",
   "name": "python3"
  },
  "language_info": {
   "codemirror_mode": {
    "name": "ipython",
    "version": 3
   },
   "file_extension": ".py",
   "mimetype": "text/x-python",
   "name": "python",
   "nbconvert_exporter": "python",
   "pygments_lexer": "ipython3",
   "version": "3.11.7"
  }
 },
 "nbformat": 4,
 "nbformat_minor": 0
}
